{
 "cells": [
  {
   "cell_type": "code",
   "execution_count": 1,
   "id": "cfd962bc",
   "metadata": {
    "_cell_guid": "b1076dfc-b9ad-4769-8c92-a6c4dae69d19",
    "_uuid": "8f2839f25d086af736a60e9eeb907d3b93b6e0e5",
    "execution": {
     "iopub.execute_input": "2022-03-06T13:10:56.493576Z",
     "iopub.status.busy": "2022-03-06T13:10:56.491856Z",
     "iopub.status.idle": "2022-03-06T13:10:57.537230Z",
     "shell.execute_reply": "2022-03-06T13:10:57.536418Z",
     "shell.execute_reply.started": "2022-03-06T13:00:15.276204Z"
    },
    "papermill": {
     "duration": 1.068997,
     "end_time": "2022-03-06T13:10:57.537398",
     "exception": false,
     "start_time": "2022-03-06T13:10:56.468401",
     "status": "completed"
    },
    "tags": []
   },
   "outputs": [
    {
     "name": "stdout",
     "output_type": "stream",
     "text": [
      "/kaggle/input/big-bang-theory-all-seasons-dataset/dataset.csv\n"
     ]
    }
   ],
   "source": [
    "# This Python 3 environment comes with many helpful analytics libraries installed\n",
    "# It is defined by the kaggle/python Docker image: https://github.com/kaggle/docker-python\n",
    "# For example, here's several helpful packages to load\n",
    "\n",
    "import numpy as np # linear algebra\n",
    "import pandas as pd # data processing, CSV file I/O (e.g. pd.read_csv)\n",
    "import matplotlib.pyplot as plt\n",
    "import seaborn as sns \n",
    "\n",
    "# Input data files are available in the read-only \"../input/\" directory\n",
    "# For example, running this (by clicking run or pressing Shift+Enter) will list all files under the input directory\n",
    "\n",
    "import os\n",
    "for dirname, _, filenames in os.walk('/kaggle/input'):\n",
    "    for filename in filenames:\n",
    "        print(os.path.join(dirname, filename))\n",
    "\n",
    "# You can write up to 20GB to the current directory (/kaggle/working/) that gets preserved as output when you create a version using \"Save & Run All\" \n",
    "# You can also write temporary files to /kaggle/temp/, but they won't be saved outside of the current session"
   ]
  },
  {
   "cell_type": "code",
   "execution_count": 2,
   "id": "0991458a",
   "metadata": {
    "execution": {
     "iopub.execute_input": "2022-03-06T13:10:57.568140Z",
     "iopub.status.busy": "2022-03-06T13:10:57.567479Z",
     "iopub.status.idle": "2022-03-06T13:10:57.584579Z",
     "shell.execute_reply": "2022-03-06T13:10:57.584053Z",
     "shell.execute_reply.started": "2022-03-06T12:34:35.239599Z"
    },
    "papermill": {
     "duration": 0.032956,
     "end_time": "2022-03-06T13:10:57.584720",
     "exception": false,
     "start_time": "2022-03-06T13:10:57.551764",
     "status": "completed"
    },
    "tags": []
   },
   "outputs": [],
   "source": [
    "#reading the csv data using pd.read_csv()\n",
    "bbt=pd.read_csv(\"../input/big-bang-theory-all-seasons-dataset/dataset.csv\")"
   ]
  },
  {
   "cell_type": "code",
   "execution_count": 3,
   "id": "c8ed7b3c",
   "metadata": {
    "execution": {
     "iopub.execute_input": "2022-03-06T13:10:57.614562Z",
     "iopub.status.busy": "2022-03-06T13:10:57.613944Z",
     "iopub.status.idle": "2022-03-06T13:10:57.634941Z",
     "shell.execute_reply": "2022-03-06T13:10:57.635421Z",
     "shell.execute_reply.started": "2022-03-06T12:34:35.261529Z"
    },
    "papermill": {
     "duration": 0.037581,
     "end_time": "2022-03-06T13:10:57.635591",
     "exception": false,
     "start_time": "2022-03-06T13:10:57.598010",
     "status": "completed"
    },
    "tags": []
   },
   "outputs": [
    {
     "data": {
      "text/html": [
       "<div>\n",
       "<style scoped>\n",
       "    .dataframe tbody tr th:only-of-type {\n",
       "        vertical-align: middle;\n",
       "    }\n",
       "\n",
       "    .dataframe tbody tr th {\n",
       "        vertical-align: top;\n",
       "    }\n",
       "\n",
       "    .dataframe thead th {\n",
       "        text-align: right;\n",
       "    }\n",
       "</style>\n",
       "<table border=\"1\" class=\"dataframe\">\n",
       "  <thead>\n",
       "    <tr style=\"text-align: right;\">\n",
       "      <th></th>\n",
       "      <th>Unnamed: 0</th>\n",
       "      <th>No.overall</th>\n",
       "      <th>No. inseason</th>\n",
       "      <th>Title</th>\n",
       "      <th>Directed by</th>\n",
       "      <th>Written by</th>\n",
       "      <th>Original air date</th>\n",
       "      <th>Prod.code</th>\n",
       "      <th>U.S. viewers(millions)</th>\n",
       "      <th>Season</th>\n",
       "    </tr>\n",
       "  </thead>\n",
       "  <tbody>\n",
       "    <tr>\n",
       "      <th>0</th>\n",
       "      <td>0</td>\n",
       "      <td>1</td>\n",
       "      <td>1</td>\n",
       "      <td>\"Pilot\"</td>\n",
       "      <td>James Burrows</td>\n",
       "      <td>Chuck Lorre &amp; Bill Prady</td>\n",
       "      <td>2007-09-24</td>\n",
       "      <td>276023</td>\n",
       "      <td>9.52</td>\n",
       "      <td>1</td>\n",
       "    </tr>\n",
       "    <tr>\n",
       "      <th>1</th>\n",
       "      <td>1</td>\n",
       "      <td>2</td>\n",
       "      <td>2</td>\n",
       "      <td>\"The Big Bran Hypothesis\"</td>\n",
       "      <td>Mark Cendrowski</td>\n",
       "      <td>Story by : Chuck Lorre &amp; Bill PradyTeleplay by...</td>\n",
       "      <td>2007-10-01</td>\n",
       "      <td>3T6601</td>\n",
       "      <td>8.58</td>\n",
       "      <td>1</td>\n",
       "    </tr>\n",
       "    <tr>\n",
       "      <th>2</th>\n",
       "      <td>2</td>\n",
       "      <td>3</td>\n",
       "      <td>3</td>\n",
       "      <td>\"The Fuzzy Boots Corollary\"</td>\n",
       "      <td>Mark Cendrowski</td>\n",
       "      <td>Story by : Chuck LorreTeleplay by : Bill Prady...</td>\n",
       "      <td>2007-10-08</td>\n",
       "      <td>3T6602</td>\n",
       "      <td>8.36</td>\n",
       "      <td>1</td>\n",
       "    </tr>\n",
       "    <tr>\n",
       "      <th>3</th>\n",
       "      <td>3</td>\n",
       "      <td>4</td>\n",
       "      <td>4</td>\n",
       "      <td>\"The Luminous Fish Effect\"</td>\n",
       "      <td>Mark Cendrowski</td>\n",
       "      <td>Story by : Chuck Lorre &amp; Bill PradyTeleplay by...</td>\n",
       "      <td>2007-10-15</td>\n",
       "      <td>3T6603</td>\n",
       "      <td>8.15</td>\n",
       "      <td>1</td>\n",
       "    </tr>\n",
       "    <tr>\n",
       "      <th>4</th>\n",
       "      <td>4</td>\n",
       "      <td>5</td>\n",
       "      <td>5</td>\n",
       "      <td>\"The Hamburger Postulate\"</td>\n",
       "      <td>Andrew D. Weyman</td>\n",
       "      <td>Story by : Jennifer GlickmanTeleplay by : Dave...</td>\n",
       "      <td>2007-10-22</td>\n",
       "      <td>3T6604</td>\n",
       "      <td>8.81</td>\n",
       "      <td>1</td>\n",
       "    </tr>\n",
       "  </tbody>\n",
       "</table>\n",
       "</div>"
      ],
      "text/plain": [
       "   Unnamed: 0  No.overall  No. inseason                        Title  \\\n",
       "0           0           1             1                      \"Pilot\"   \n",
       "1           1           2             2    \"The Big Bran Hypothesis\"   \n",
       "2           2           3             3  \"The Fuzzy Boots Corollary\"   \n",
       "3           3           4             4   \"The Luminous Fish Effect\"   \n",
       "4           4           5             5    \"The Hamburger Postulate\"   \n",
       "\n",
       "        Directed by                                         Written by  \\\n",
       "0     James Burrows                           Chuck Lorre & Bill Prady   \n",
       "1   Mark Cendrowski  Story by : Chuck Lorre & Bill PradyTeleplay by...   \n",
       "2   Mark Cendrowski  Story by : Chuck LorreTeleplay by : Bill Prady...   \n",
       "3   Mark Cendrowski  Story by : Chuck Lorre & Bill PradyTeleplay by...   \n",
       "4  Andrew D. Weyman  Story by : Jennifer GlickmanTeleplay by : Dave...   \n",
       "\n",
       "  Original air date Prod.code  U.S. viewers(millions)  Season  \n",
       "0        2007-09-24    276023                    9.52       1  \n",
       "1        2007-10-01    3T6601                    8.58       1  \n",
       "2        2007-10-08    3T6602                    8.36       1  \n",
       "3        2007-10-15    3T6603                    8.15       1  \n",
       "4        2007-10-22    3T6604                    8.81       1  "
      ]
     },
     "execution_count": 3,
     "metadata": {},
     "output_type": "execute_result"
    }
   ],
   "source": [
    "# checking the head of the data\n",
    "bbt.head()"
   ]
  },
  {
   "cell_type": "code",
   "execution_count": 4,
   "id": "69888007",
   "metadata": {
    "execution": {
     "iopub.execute_input": "2022-03-06T13:10:57.670916Z",
     "iopub.status.busy": "2022-03-06T13:10:57.670277Z",
     "iopub.status.idle": "2022-03-06T13:10:57.688541Z",
     "shell.execute_reply": "2022-03-06T13:10:57.689145Z",
     "shell.execute_reply.started": "2022-03-06T12:35:19.812468Z"
    },
    "papermill": {
     "duration": 0.039848,
     "end_time": "2022-03-06T13:10:57.689313",
     "exception": false,
     "start_time": "2022-03-06T13:10:57.649465",
     "status": "completed"
    },
    "tags": []
   },
   "outputs": [
    {
     "name": "stdout",
     "output_type": "stream",
     "text": [
      "<class 'pandas.core.frame.DataFrame'>\n",
      "RangeIndex: 279 entries, 0 to 278\n",
      "Data columns (total 10 columns):\n",
      " #   Column                  Non-Null Count  Dtype  \n",
      "---  ------                  --------------  -----  \n",
      " 0   Unnamed: 0              279 non-null    int64  \n",
      " 1   No.overall              279 non-null    int64  \n",
      " 2   No. inseason            279 non-null    int64  \n",
      " 3   Title                   279 non-null    object \n",
      " 4   Directed by             279 non-null    object \n",
      " 5   Written by              279 non-null    object \n",
      " 6   Original air date       279 non-null    object \n",
      " 7   Prod.code               279 non-null    object \n",
      " 8   U.S. viewers(millions)  279 non-null    float64\n",
      " 9   Season                  279 non-null    int64  \n",
      "dtypes: float64(1), int64(4), object(5)\n",
      "memory usage: 21.9+ KB\n"
     ]
    }
   ],
   "source": [
    "#checking the info of the data\n",
    "bbt.info()"
   ]
  },
  {
   "cell_type": "code",
   "execution_count": 5,
   "id": "c6ac759f",
   "metadata": {
    "execution": {
     "iopub.execute_input": "2022-03-06T13:10:57.720990Z",
     "iopub.status.busy": "2022-03-06T13:10:57.720371Z",
     "iopub.status.idle": "2022-03-06T13:10:57.725294Z",
     "shell.execute_reply": "2022-03-06T13:10:57.725874Z",
     "shell.execute_reply.started": "2022-03-06T12:35:46.121248Z"
    },
    "papermill": {
     "duration": 0.022477,
     "end_time": "2022-03-06T13:10:57.726031",
     "exception": false,
     "start_time": "2022-03-06T13:10:57.703554",
     "status": "completed"
    },
    "tags": []
   },
   "outputs": [
    {
     "data": {
      "text/plain": [
       "Index(['Unnamed: 0', 'No.overall', 'No. inseason', 'Title', 'Directed by',\n",
       "       'Written by', 'Original air date', 'Prod.code',\n",
       "       'U.S. viewers(millions)', 'Season'],\n",
       "      dtype='object')"
      ]
     },
     "execution_count": 5,
     "metadata": {},
     "output_type": "execute_result"
    }
   ],
   "source": [
    "bbt.columns"
   ]
  },
  {
   "cell_type": "code",
   "execution_count": 6,
   "id": "c109f331",
   "metadata": {
    "execution": {
     "iopub.execute_input": "2022-03-06T13:10:57.762937Z",
     "iopub.status.busy": "2022-03-06T13:10:57.762311Z",
     "iopub.status.idle": "2022-03-06T13:10:57.765395Z",
     "shell.execute_reply": "2022-03-06T13:10:57.764912Z",
     "shell.execute_reply.started": "2022-03-06T12:54:10.074747Z"
    },
    "papermill": {
     "duration": 0.024862,
     "end_time": "2022-03-06T13:10:57.765535",
     "exception": false,
     "start_time": "2022-03-06T13:10:57.740673",
     "status": "completed"
    },
    "tags": []
   },
   "outputs": [],
   "source": [
    "# fixing the datatype of Date Column to datetime format\n",
    "bbt[\"Original air date\"] = pd.to_datetime(bbt[\"Original air date\"])"
   ]
  },
  {
   "cell_type": "code",
   "execution_count": 7,
   "id": "253080d6",
   "metadata": {
    "execution": {
     "iopub.execute_input": "2022-03-06T13:10:57.798543Z",
     "iopub.status.busy": "2022-03-06T13:10:57.797938Z",
     "iopub.status.idle": "2022-03-06T13:10:57.811498Z",
     "shell.execute_reply": "2022-03-06T13:10:57.810446Z",
     "shell.execute_reply.started": "2022-03-06T12:54:14.481229Z"
    },
    "papermill": {
     "duration": 0.030743,
     "end_time": "2022-03-06T13:10:57.811750",
     "exception": false,
     "start_time": "2022-03-06T13:10:57.781007",
     "status": "completed"
    },
    "tags": []
   },
   "outputs": [
    {
     "name": "stdout",
     "output_type": "stream",
     "text": [
      "<class 'pandas.core.frame.DataFrame'>\n",
      "RangeIndex: 279 entries, 0 to 278\n",
      "Data columns (total 10 columns):\n",
      " #   Column                  Non-Null Count  Dtype         \n",
      "---  ------                  --------------  -----         \n",
      " 0   Unnamed: 0              279 non-null    int64         \n",
      " 1   No.overall              279 non-null    int64         \n",
      " 2   No. inseason            279 non-null    int64         \n",
      " 3   Title                   279 non-null    object        \n",
      " 4   Directed by             279 non-null    object        \n",
      " 5   Written by              279 non-null    object        \n",
      " 6   Original air date       279 non-null    datetime64[ns]\n",
      " 7   Prod.code               279 non-null    object        \n",
      " 8   U.S. viewers(millions)  279 non-null    float64       \n",
      " 9   Season                  279 non-null    int64         \n",
      "dtypes: datetime64[ns](1), float64(1), int64(4), object(4)\n",
      "memory usage: 21.9+ KB\n"
     ]
    }
   ],
   "source": [
    "#checking the info again\n",
    "bbt.info()"
   ]
  },
  {
   "cell_type": "code",
   "execution_count": 8,
   "id": "4f9c80fe",
   "metadata": {
    "execution": {
     "iopub.execute_input": "2022-03-06T13:10:57.847528Z",
     "iopub.status.busy": "2022-03-06T13:10:57.846902Z",
     "iopub.status.idle": "2022-03-06T13:10:57.851303Z",
     "shell.execute_reply": "2022-03-06T13:10:57.851925Z",
     "shell.execute_reply.started": "2022-03-06T13:00:36.580882Z"
    },
    "papermill": {
     "duration": 0.023821,
     "end_time": "2022-03-06T13:10:57.852090",
     "exception": false,
     "start_time": "2022-03-06T13:10:57.828269",
     "status": "completed"
    },
    "tags": []
   },
   "outputs": [
    {
     "data": {
      "text/plain": [
       "Index(['Unnamed: 0', 'No.overall', 'No. inseason', 'Title', 'Directed by',\n",
       "       'Written by', 'Original air date', 'Prod.code',\n",
       "       'U.S. viewers(millions)', 'Season'],\n",
       "      dtype='object')"
      ]
     },
     "execution_count": 8,
     "metadata": {},
     "output_type": "execute_result"
    }
   ],
   "source": [
    "bbt.columns"
   ]
  },
  {
   "cell_type": "code",
   "execution_count": 9,
   "id": "18a771e6",
   "metadata": {
    "execution": {
     "iopub.execute_input": "2022-03-06T13:10:57.885949Z",
     "iopub.status.busy": "2022-03-06T13:10:57.885325Z",
     "iopub.status.idle": "2022-03-06T13:10:57.891696Z",
     "shell.execute_reply": "2022-03-06T13:10:57.892252Z",
     "shell.execute_reply.started": "2022-03-06T13:01:15.788660Z"
    },
    "papermill": {
     "duration": 0.024948,
     "end_time": "2022-03-06T13:10:57.892447",
     "exception": false,
     "start_time": "2022-03-06T13:10:57.867499",
     "status": "completed"
    },
    "tags": []
   },
   "outputs": [],
   "source": [
    "# dropping unwanted column\n",
    "bbt.drop(\"Unnamed: 0\",axis=1,inplace=True)"
   ]
  },
  {
   "cell_type": "code",
   "execution_count": 10,
   "id": "7d462831",
   "metadata": {
    "execution": {
     "iopub.execute_input": "2022-03-06T13:10:57.939333Z",
     "iopub.status.busy": "2022-03-06T13:10:57.938340Z",
     "iopub.status.idle": "2022-03-06T13:10:59.064129Z",
     "shell.execute_reply": "2022-03-06T13:10:59.064618Z",
     "shell.execute_reply.started": "2022-03-06T13:03:46.563081Z"
    },
    "papermill": {
     "duration": 1.156729,
     "end_time": "2022-03-06T13:10:59.064833",
     "exception": false,
     "start_time": "2022-03-06T13:10:57.908104",
     "status": "completed"
    },
    "tags": []
   },
   "outputs": [
    {
     "data": {
      "image/png": "[encoded data removed]",
      "text/plain": [
       "<Figure size 912.75x432 with 1 Axes>"
      ]
     },
     "metadata": {
      "needs_background": "light"
     },
     "output_type": "display_data"
    }
   ],
   "source": [
    "# Using seaborn to compare number of views along with episodes of each season \n",
    "sns.lmplot(x=\"No.overall\", y=\"U.S. viewers(millions)\", hue=\"Season\", data=bbt, height=6, aspect=2, ci=None)\n",
    "plt.xlabel(\"Episode\")\n",
    "plt.title(\"U.S. viewers(millions) for Big Bang Theory episodes\");"
   ]
  },
  {
   "cell_type": "code",
   "execution_count": 11,
   "id": "1d69a539",
   "metadata": {
    "execution": {
     "iopub.execute_input": "2022-03-06T13:10:59.124811Z",
     "iopub.status.busy": "2022-03-06T13:10:59.121127Z",
     "iopub.status.idle": "2022-03-06T13:10:59.365373Z",
     "shell.execute_reply": "2022-03-06T13:10:59.364875Z",
     "shell.execute_reply.started": "2022-03-06T13:04:58.516834Z"
    },
    "papermill": {
     "duration": 0.282791,
     "end_time": "2022-03-06T13:10:59.365512",
     "exception": false,
     "start_time": "2022-03-06T13:10:59.082721",
     "status": "completed"
    },
    "tags": []
   },
   "outputs": [
    {
     "data": {
      "image/png": "[encoded data removed]",
      "text/plain": [
       "<Figure size 1080x432 with 1 Axes>"
      ]
     },
     "metadata": {
      "needs_background": "light"
     },
     "output_type": "display_data"
    }
   ],
   "source": [
    "#checking the same in bar graph\n",
    "mean_viewers = bbt.groupby(['Season'])['U.S. viewers(millions)'].mean() #calculating mean \n",
    "\n",
    "fig = plt.figure(figsize=(15, 6))\n",
    "\n",
    "plt.bar(x=mean_viewers.index, height=(mean_viewers.values / 1e6)) \n",
    "plt.ylabel('Average US viewers (millions)')\n",
    "plt.xlabel('Season')\n",
    "plt.title('Big Bang Theory Average US Viewers per Season');"
   ]
  },
  {
   "cell_type": "markdown",
   "id": "69d88f99",
   "metadata": {
    "papermill": {
     "duration": 0.018376,
     "end_time": "2022-03-06T13:10:59.403928",
     "exception": false,
     "start_time": "2022-03-06T13:10:59.385552",
     "status": "completed"
    },
    "tags": []
   },
   "source": [
    "# Conclusion\n",
    "After increasing each of the first three seasons, US viewership declined slightly in the fourth. Seasons 7-9 saw a rebound, however, before declining in each of the last three seasons."
   ]
  }
 ],
 "metadata": {
  "kernelspec": {
   "display_name": "Python 3",
   "language": "python",
   "name": "python3"
  },
  "language_info": {
   "codemirror_mode": {
    "name": "ipython",
    "version": 3
   },
   "file_extension": ".py",
   "mimetype": "text/x-python",
   "name": "python",
   "nbconvert_exporter": "python",
   "pygments_lexer": "ipython3",
   "version": "3.7.12"
  },
  "papermill": {
   "default_parameters": {},
   "duration": 13.832327,
   "end_time": "2022-03-06T13:11:00.134616",
   "environment_variables": {},
   "exception": null,
   "input_path": "__notebook__.ipynb",
   "output_path": "__notebook__.ipynb",
   "parameters": {},
   "start_time": "2022-03-06T13:10:46.302289",
   "version": "2.3.3"
  }
 },
 "nbformat": 4,
 "nbformat_minor": 5
}
