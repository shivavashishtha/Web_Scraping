{
 "cells": [
  {
   "cell_type": "code",
   "execution_count": 1,
   "id": "51cd6d7d",
   "metadata": {
    "_cell_guid": "b1076dfc-b9ad-4769-8c92-a6c4dae69d19",
    "_uuid": "8f2839f25d086af736a60e9eeb907d3b93b6e0e5",
    "execution": {
     "iopub.execute_input": "2022-03-11T19:05:50.034482Z",
     "iopub.status.busy": "2022-03-11T19:05:50.033636Z",
     "iopub.status.idle": "2022-03-11T19:05:50.046948Z",
     "shell.execute_reply": "2022-03-11T19:05:50.046051Z",
     "shell.execute_reply.started": "2022-03-11T19:04:43.471550Z"
    },
    "papermill": {
     "duration": 0.047994,
     "end_time": "2022-03-11T19:05:50.047153",
     "exception": false,
     "start_time": "2022-03-11T19:05:49.999159",
     "status": "completed"
    },
    "tags": []
   },
   "outputs": [
    {
     "name": "stdout",
     "output_type": "stream",
     "text": [
      "/kaggle/input/ipl-2022-schedule/ipl_schedule.csv\n"
     ]
    }
   ],
   "source": [
    "# This Python 3 environment comes with many helpful analytics libraries installed\n",
    "# It is defined by the kaggle/python Docker image: https://github.com/kaggle/docker-python\n",
    "# For example, here's several helpful packages to load\n",
    "\n",
    "import numpy as np # linear algebra\n",
    "import pandas as pd # data processing, CSV file I/O (e.g. pd.read_csv)\n",
    "\n",
    "# Input data files are available in the read-only \"../input/\" directory\n",
    "# For example, running this (by clicking run or pressing Shift+Enter) will list all files under the input directory\n",
    "\n",
    "import os\n",
    "for dirname, _, filenames in os.walk('/kaggle/input'):\n",
    "    for filename in filenames:\n",
    "        print(os.path.join(dirname, filename))\n",
    "\n",
    "# You can write up to 20GB to the current directory (/kaggle/working/) that gets preserved as output when you create a version using \"Save & Run All\" \n",
    "# You can also write temporary files to /kaggle/temp/, but they won't be saved outside of the current session"
   ]
  },
  {
   "cell_type": "markdown",
   "id": "4e94e997",
   "metadata": {
    "papermill": {
     "duration": 0.020737,
     "end_time": "2022-03-11T19:05:50.092418",
     "exception": false,
     "start_time": "2022-03-11T19:05:50.071681",
     "status": "completed"
    },
    "tags": []
   },
   "source": [
    "# Initialising the URL"
   ]
  },
  {
   "cell_type": "code",
   "execution_count": 2,
   "id": "a39c15a4",
   "metadata": {
    "execution": {
     "iopub.execute_input": "2022-03-11T19:05:50.139743Z",
     "iopub.status.busy": "2022-03-11T19:05:50.138364Z",
     "iopub.status.idle": "2022-03-11T19:05:50.140749Z",
     "shell.execute_reply": "2022-03-11T19:05:50.142514Z",
     "shell.execute_reply.started": "2022-03-11T19:04:43.508802Z"
    },
    "papermill": {
     "duration": 0.02993,
     "end_time": "2022-03-11T19:05:50.142764",
     "exception": false,
     "start_time": "2022-03-11T19:05:50.112834",
     "status": "completed"
    },
    "tags": []
   },
   "outputs": [],
   "source": [
    "url=\"https://www.news18.com/cricketnext/news/ipl-2022-full-schedule-date-and-time-and-venue-fixture-of-all-the-matches-4843361.html\""
   ]
  },
  {
   "cell_type": "markdown",
   "id": "71576fb4",
   "metadata": {
    "papermill": {
     "duration": 0.02615,
     "end_time": "2022-03-11T19:05:50.192307",
     "exception": false,
     "start_time": "2022-03-11T19:05:50.166157",
     "status": "completed"
    },
    "tags": []
   },
   "source": [
    "# Using pd.read_html() to read the url"
   ]
  },
  {
   "cell_type": "code",
   "execution_count": 3,
   "id": "f2815613",
   "metadata": {
    "execution": {
     "iopub.execute_input": "2022-03-11T19:05:50.246981Z",
     "iopub.status.busy": "2022-03-11T19:05:50.245820Z",
     "iopub.status.idle": "2022-03-11T19:05:51.569067Z",
     "shell.execute_reply": "2022-03-11T19:05:51.568410Z",
     "shell.execute_reply.started": "2022-03-11T19:04:43.516106Z"
    },
    "papermill": {
     "duration": 1.353363,
     "end_time": "2022-03-11T19:05:51.569253",
     "exception": false,
     "start_time": "2022-03-11T19:05:50.215890",
     "status": "completed"
    },
    "tags": []
   },
   "outputs": [],
   "source": [
    "df=pd.read_html(url)"
   ]
  },
  {
   "cell_type": "markdown",
   "id": "58c3aa14",
   "metadata": {
    "papermill": {
     "duration": 0.019617,
     "end_time": "2022-03-11T19:05:51.608027",
     "exception": false,
     "start_time": "2022-03-11T19:05:51.588410",
     "status": "completed"
    },
    "tags": []
   },
   "source": [
    "# Printing the lements at 0 index of the list"
   ]
  },
  {
   "cell_type": "code",
   "execution_count": 4,
   "id": "6c772a9d",
   "metadata": {
    "execution": {
     "iopub.execute_input": "2022-03-11T19:05:51.657532Z",
     "iopub.status.busy": "2022-03-11T19:05:51.655908Z",
     "iopub.status.idle": "2022-03-11T19:05:51.686741Z",
     "shell.execute_reply": "2022-03-11T19:05:51.687502Z",
     "shell.execute_reply.started": "2022-03-11T19:04:46.148124Z"
    },
    "papermill": {
     "duration": 0.061232,
     "end_time": "2022-03-11T19:05:51.687774",
     "exception": false,
     "start_time": "2022-03-11T19:05:51.626542",
     "status": "completed"
    },
    "tags": []
   },
   "outputs": [
    {
     "data": {
      "text/html": [
       "<div>\n",
       "<style scoped>\n",
       "    .dataframe tbody tr th:only-of-type {\n",
       "        vertical-align: middle;\n",
       "    }\n",
       "\n",
       "    .dataframe tbody tr th {\n",
       "        vertical-align: top;\n",
       "    }\n",
       "\n",
       "    .dataframe thead th {\n",
       "        text-align: right;\n",
       "    }\n",
       "</style>\n",
       "<table border=\"1\" class=\"dataframe\">\n",
       "  <thead>\n",
       "    <tr style=\"text-align: right;\">\n",
       "      <th></th>\n",
       "      <th>0</th>\n",
       "      <th>1</th>\n",
       "      <th>2</th>\n",
       "      <th>3</th>\n",
       "      <th>4</th>\n",
       "      <th>5</th>\n",
       "    </tr>\n",
       "  </thead>\n",
       "  <tbody>\n",
       "    <tr>\n",
       "      <th>0</th>\n",
       "      <td>DATE</td>\n",
       "      <td>TIME</td>\n",
       "      <td>PM/AM</td>\n",
       "      <td>HOME TEAM</td>\n",
       "      <td>AWAY TEAM</td>\n",
       "      <td>VENUE</td>\n",
       "    </tr>\n",
       "    <tr>\n",
       "      <th>1</th>\n",
       "      <td>26-Mar-22</td>\n",
       "      <td>07:30</td>\n",
       "      <td>PM</td>\n",
       "      <td>Chennai Super Kings</td>\n",
       "      <td>Kolkata Knight Riders</td>\n",
       "      <td>Wankhede Stadium</td>\n",
       "    </tr>\n",
       "    <tr>\n",
       "      <th>2</th>\n",
       "      <td>27-03-2022</td>\n",
       "      <td>03:30</td>\n",
       "      <td>PM</td>\n",
       "      <td>Delhi Capitals</td>\n",
       "      <td>Mumbai Indians</td>\n",
       "      <td>Brabourne - CCI</td>\n",
       "    </tr>\n",
       "    <tr>\n",
       "      <th>3</th>\n",
       "      <td>27-03-2022</td>\n",
       "      <td>07:30</td>\n",
       "      <td>PM</td>\n",
       "      <td>Punjab Kings</td>\n",
       "      <td>Royal Challengers Bangalore</td>\n",
       "      <td>DY Patil Stadium</td>\n",
       "    </tr>\n",
       "    <tr>\n",
       "      <th>4</th>\n",
       "      <td>28-03-2022</td>\n",
       "      <td>07:30</td>\n",
       "      <td>PM</td>\n",
       "      <td>Gujarat Titans</td>\n",
       "      <td>Lucknow Super Giants</td>\n",
       "      <td>Wankhede Stadium</td>\n",
       "    </tr>\n",
       "    <tr>\n",
       "      <th>...</th>\n",
       "      <td>...</td>\n",
       "      <td>...</td>\n",
       "      <td>...</td>\n",
       "      <td>...</td>\n",
       "      <td>...</td>\n",
       "      <td>...</td>\n",
       "    </tr>\n",
       "    <tr>\n",
       "      <th>66</th>\n",
       "      <td>18-05-2022</td>\n",
       "      <td>07:30</td>\n",
       "      <td>PM</td>\n",
       "      <td>Kolkata Knight Riders</td>\n",
       "      <td>Lucknow Super Giants</td>\n",
       "      <td>DY Patil Stadium</td>\n",
       "    </tr>\n",
       "    <tr>\n",
       "      <th>67</th>\n",
       "      <td>19-05-2022</td>\n",
       "      <td>07:30</td>\n",
       "      <td>PM</td>\n",
       "      <td>Royal Challengers Bangalore</td>\n",
       "      <td>Gujarat Titans</td>\n",
       "      <td>Wankhede Stadium</td>\n",
       "    </tr>\n",
       "    <tr>\n",
       "      <th>68</th>\n",
       "      <td>20-05-2022</td>\n",
       "      <td>07:30</td>\n",
       "      <td>PM</td>\n",
       "      <td>Rajasthan Royals</td>\n",
       "      <td>Chennai Super Kings</td>\n",
       "      <td>Brabourne - CCI</td>\n",
       "    </tr>\n",
       "    <tr>\n",
       "      <th>69</th>\n",
       "      <td>21-05-2022</td>\n",
       "      <td>07:30</td>\n",
       "      <td>PM</td>\n",
       "      <td>Mumbai Indians</td>\n",
       "      <td>Delhi Capitals</td>\n",
       "      <td>Wankhede Stadium</td>\n",
       "    </tr>\n",
       "    <tr>\n",
       "      <th>70</th>\n",
       "      <td>22-05-2022</td>\n",
       "      <td>07:30</td>\n",
       "      <td>PM</td>\n",
       "      <td>Sunrisers Hyderabad</td>\n",
       "      <td>Punjab Kings</td>\n",
       "      <td>Wankhede Stadium</td>\n",
       "    </tr>\n",
       "  </tbody>\n",
       "</table>\n",
       "<p>71 rows × 6 columns</p>\n",
       "</div>"
      ],
      "text/plain": [
       "             0      1      2                            3  \\\n",
       "0         DATE   TIME  PM/AM                    HOME TEAM   \n",
       "1    26-Mar-22  07:30     PM          Chennai Super Kings   \n",
       "2   27-03-2022  03:30     PM               Delhi Capitals   \n",
       "3   27-03-2022  07:30     PM                 Punjab Kings   \n",
       "4   28-03-2022  07:30     PM               Gujarat Titans   \n",
       "..         ...    ...    ...                          ...   \n",
       "66  18-05-2022  07:30     PM        Kolkata Knight Riders   \n",
       "67  19-05-2022  07:30     PM  Royal Challengers Bangalore   \n",
       "68  20-05-2022  07:30     PM             Rajasthan Royals   \n",
       "69  21-05-2022  07:30     PM               Mumbai Indians   \n",
       "70  22-05-2022  07:30     PM          Sunrisers Hyderabad   \n",
       "\n",
       "                              4                 5  \n",
       "0                     AWAY TEAM             VENUE  \n",
       "1         Kolkata Knight Riders  Wankhede Stadium  \n",
       "2                Mumbai Indians   Brabourne - CCI  \n",
       "3   Royal Challengers Bangalore  DY Patil Stadium  \n",
       "4          Lucknow Super Giants  Wankhede Stadium  \n",
       "..                          ...               ...  \n",
       "66         Lucknow Super Giants  DY Patil Stadium  \n",
       "67               Gujarat Titans  Wankhede Stadium  \n",
       "68          Chennai Super Kings   Brabourne - CCI  \n",
       "69               Delhi Capitals  Wankhede Stadium  \n",
       "70                 Punjab Kings  Wankhede Stadium  \n",
       "\n",
       "[71 rows x 6 columns]"
      ]
     },
     "execution_count": 4,
     "metadata": {},
     "output_type": "execute_result"
    }
   ],
   "source": [
    "df[0]"
   ]
  },
  {
   "cell_type": "markdown",
   "id": "3d1bef23",
   "metadata": {
    "papermill": {
     "duration": 0.02616,
     "end_time": "2022-03-11T19:05:51.738554",
     "exception": false,
     "start_time": "2022-03-11T19:05:51.712394",
     "status": "completed"
    },
    "tags": []
   },
   "source": [
    "# Storing the data into as new dataframe"
   ]
  },
  {
   "cell_type": "code",
   "execution_count": 5,
   "id": "e2a7d1c9",
   "metadata": {
    "execution": {
     "iopub.execute_input": "2022-03-11T19:05:51.803090Z",
     "iopub.status.busy": "2022-03-11T19:05:51.801749Z",
     "iopub.status.idle": "2022-03-11T19:05:51.807123Z",
     "shell.execute_reply": "2022-03-11T19:05:51.808047Z",
     "shell.execute_reply.started": "2022-03-11T19:04:46.178997Z"
    },
    "papermill": {
     "duration": 0.042016,
     "end_time": "2022-03-11T19:05:51.808342",
     "exception": false,
     "start_time": "2022-03-11T19:05:51.766326",
     "status": "completed"
    },
    "tags": []
   },
   "outputs": [],
   "source": [
    "data=df[0]"
   ]
  },
  {
   "cell_type": "markdown",
   "id": "8d035b5b",
   "metadata": {
    "papermill": {
     "duration": 0.02053,
     "end_time": "2022-03-11T19:05:51.855633",
     "exception": false,
     "start_time": "2022-03-11T19:05:51.835103",
     "status": "completed"
    },
    "tags": []
   },
   "source": [
    "# Fixing the header"
   ]
  },
  {
   "cell_type": "code",
   "execution_count": 6,
   "id": "b5c2c153",
   "metadata": {
    "execution": {
     "iopub.execute_input": "2022-03-11T19:05:51.911672Z",
     "iopub.status.busy": "2022-03-11T19:05:51.910793Z",
     "iopub.status.idle": "2022-03-11T19:05:51.912400Z",
     "shell.execute_reply": "2022-03-11T19:05:51.913644Z",
     "shell.execute_reply.started": "2022-03-11T19:04:46.185840Z"
    },
    "papermill": {
     "duration": 0.032444,
     "end_time": "2022-03-11T19:05:51.913925",
     "exception": false,
     "start_time": "2022-03-11T19:05:51.881481",
     "status": "completed"
    },
    "tags": []
   },
   "outputs": [],
   "source": [
    "data.columns = data.iloc[0] "
   ]
  },
  {
   "cell_type": "code",
   "execution_count": 7,
   "id": "053b6122",
   "metadata": {
    "execution": {
     "iopub.execute_input": "2022-03-11T19:05:51.969387Z",
     "iopub.status.busy": "2022-03-11T19:05:51.968419Z",
     "iopub.status.idle": "2022-03-11T19:05:51.972312Z",
     "shell.execute_reply": "2022-03-11T19:05:51.973024Z",
     "shell.execute_reply.started": "2022-03-11T19:04:46.199140Z"
    },
    "papermill": {
     "duration": 0.031674,
     "end_time": "2022-03-11T19:05:51.973268",
     "exception": false,
     "start_time": "2022-03-11T19:05:51.941594",
     "status": "completed"
    },
    "tags": []
   },
   "outputs": [],
   "source": [
    "data=data[1:]"
   ]
  },
  {
   "cell_type": "code",
   "execution_count": 8,
   "id": "057062b6",
   "metadata": {
    "execution": {
     "iopub.execute_input": "2022-03-11T19:05:52.027246Z",
     "iopub.status.busy": "2022-03-11T19:05:52.025762Z",
     "iopub.status.idle": "2022-03-11T19:05:52.043464Z",
     "shell.execute_reply": "2022-03-11T19:05:52.044784Z",
     "shell.execute_reply.started": "2022-03-11T19:04:46.212807Z"
    },
    "papermill": {
     "duration": 0.046952,
     "end_time": "2022-03-11T19:05:52.045315",
     "exception": false,
     "start_time": "2022-03-11T19:05:51.998363",
     "status": "completed"
    },
    "tags": []
   },
   "outputs": [
    {
     "data": {
      "text/html": [
       "<div>\n",
       "<style scoped>\n",
       "    .dataframe tbody tr th:only-of-type {\n",
       "        vertical-align: middle;\n",
       "    }\n",
       "\n",
       "    .dataframe tbody tr th {\n",
       "        vertical-align: top;\n",
       "    }\n",
       "\n",
       "    .dataframe thead th {\n",
       "        text-align: right;\n",
       "    }\n",
       "</style>\n",
       "<table border=\"1\" class=\"dataframe\">\n",
       "  <thead>\n",
       "    <tr style=\"text-align: right;\">\n",
       "      <th></th>\n",
       "      <th>DATE</th>\n",
       "      <th>TIME</th>\n",
       "      <th>PM/AM</th>\n",
       "      <th>HOME TEAM</th>\n",
       "      <th>AWAY TEAM</th>\n",
       "      <th>VENUE</th>\n",
       "    </tr>\n",
       "  </thead>\n",
       "  <tbody>\n",
       "    <tr>\n",
       "      <th>1</th>\n",
       "      <td>26-Mar-22</td>\n",
       "      <td>07:30</td>\n",
       "      <td>PM</td>\n",
       "      <td>Chennai Super Kings</td>\n",
       "      <td>Kolkata Knight Riders</td>\n",
       "      <td>Wankhede Stadium</td>\n",
       "    </tr>\n",
       "    <tr>\n",
       "      <th>2</th>\n",
       "      <td>27-03-2022</td>\n",
       "      <td>03:30</td>\n",
       "      <td>PM</td>\n",
       "      <td>Delhi Capitals</td>\n",
       "      <td>Mumbai Indians</td>\n",
       "      <td>Brabourne - CCI</td>\n",
       "    </tr>\n",
       "    <tr>\n",
       "      <th>3</th>\n",
       "      <td>27-03-2022</td>\n",
       "      <td>07:30</td>\n",
       "      <td>PM</td>\n",
       "      <td>Punjab Kings</td>\n",
       "      <td>Royal Challengers Bangalore</td>\n",
       "      <td>DY Patil Stadium</td>\n",
       "    </tr>\n",
       "    <tr>\n",
       "      <th>4</th>\n",
       "      <td>28-03-2022</td>\n",
       "      <td>07:30</td>\n",
       "      <td>PM</td>\n",
       "      <td>Gujarat Titans</td>\n",
       "      <td>Lucknow Super Giants</td>\n",
       "      <td>Wankhede Stadium</td>\n",
       "    </tr>\n",
       "    <tr>\n",
       "      <th>5</th>\n",
       "      <td>29-03-2022</td>\n",
       "      <td>07:30</td>\n",
       "      <td>PM</td>\n",
       "      <td>Sunrisers Hyderabad</td>\n",
       "      <td>Rajasthan Royals</td>\n",
       "      <td>MCA Stadium, Pune</td>\n",
       "    </tr>\n",
       "    <tr>\n",
       "      <th>...</th>\n",
       "      <td>...</td>\n",
       "      <td>...</td>\n",
       "      <td>...</td>\n",
       "      <td>...</td>\n",
       "      <td>...</td>\n",
       "      <td>...</td>\n",
       "    </tr>\n",
       "    <tr>\n",
       "      <th>66</th>\n",
       "      <td>18-05-2022</td>\n",
       "      <td>07:30</td>\n",
       "      <td>PM</td>\n",
       "      <td>Kolkata Knight Riders</td>\n",
       "      <td>Lucknow Super Giants</td>\n",
       "      <td>DY Patil Stadium</td>\n",
       "    </tr>\n",
       "    <tr>\n",
       "      <th>67</th>\n",
       "      <td>19-05-2022</td>\n",
       "      <td>07:30</td>\n",
       "      <td>PM</td>\n",
       "      <td>Royal Challengers Bangalore</td>\n",
       "      <td>Gujarat Titans</td>\n",
       "      <td>Wankhede Stadium</td>\n",
       "    </tr>\n",
       "    <tr>\n",
       "      <th>68</th>\n",
       "      <td>20-05-2022</td>\n",
       "      <td>07:30</td>\n",
       "      <td>PM</td>\n",
       "      <td>Rajasthan Royals</td>\n",
       "      <td>Chennai Super Kings</td>\n",
       "      <td>Brabourne - CCI</td>\n",
       "    </tr>\n",
       "    <tr>\n",
       "      <th>69</th>\n",
       "      <td>21-05-2022</td>\n",
       "      <td>07:30</td>\n",
       "      <td>PM</td>\n",
       "      <td>Mumbai Indians</td>\n",
       "      <td>Delhi Capitals</td>\n",
       "      <td>Wankhede Stadium</td>\n",
       "    </tr>\n",
       "    <tr>\n",
       "      <th>70</th>\n",
       "      <td>22-05-2022</td>\n",
       "      <td>07:30</td>\n",
       "      <td>PM</td>\n",
       "      <td>Sunrisers Hyderabad</td>\n",
       "      <td>Punjab Kings</td>\n",
       "      <td>Wankhede Stadium</td>\n",
       "    </tr>\n",
       "  </tbody>\n",
       "</table>\n",
       "<p>70 rows × 6 columns</p>\n",
       "</div>"
      ],
      "text/plain": [
       "0         DATE   TIME PM/AM                    HOME TEAM  \\\n",
       "1    26-Mar-22  07:30    PM          Chennai Super Kings   \n",
       "2   27-03-2022  03:30    PM               Delhi Capitals   \n",
       "3   27-03-2022  07:30    PM                 Punjab Kings   \n",
       "4   28-03-2022  07:30    PM               Gujarat Titans   \n",
       "5   29-03-2022  07:30    PM          Sunrisers Hyderabad   \n",
       "..         ...    ...   ...                          ...   \n",
       "66  18-05-2022  07:30    PM        Kolkata Knight Riders   \n",
       "67  19-05-2022  07:30    PM  Royal Challengers Bangalore   \n",
       "68  20-05-2022  07:30    PM             Rajasthan Royals   \n",
       "69  21-05-2022  07:30    PM               Mumbai Indians   \n",
       "70  22-05-2022  07:30    PM          Sunrisers Hyderabad   \n",
       "\n",
       "0                     AWAY TEAM              VENUE  \n",
       "1         Kolkata Knight Riders   Wankhede Stadium  \n",
       "2                Mumbai Indians    Brabourne - CCI  \n",
       "3   Royal Challengers Bangalore   DY Patil Stadium  \n",
       "4          Lucknow Super Giants   Wankhede Stadium  \n",
       "5              Rajasthan Royals  MCA Stadium, Pune  \n",
       "..                          ...                ...  \n",
       "66         Lucknow Super Giants   DY Patil Stadium  \n",
       "67               Gujarat Titans   Wankhede Stadium  \n",
       "68          Chennai Super Kings    Brabourne - CCI  \n",
       "69               Delhi Capitals   Wankhede Stadium  \n",
       "70                 Punjab Kings   Wankhede Stadium  \n",
       "\n",
       "[70 rows x 6 columns]"
      ]
     },
     "execution_count": 8,
     "metadata": {},
     "output_type": "execute_result"
    }
   ],
   "source": [
    "data"
   ]
  },
  {
   "cell_type": "code",
   "execution_count": 9,
   "id": "ef76f1fc",
   "metadata": {
    "execution": {
     "iopub.execute_input": "2022-03-11T19:05:52.096079Z",
     "iopub.status.busy": "2022-03-11T19:05:52.095272Z",
     "iopub.status.idle": "2022-03-11T19:05:52.119707Z",
     "shell.execute_reply": "2022-03-11T19:05:52.118760Z",
     "shell.execute_reply.started": "2022-03-11T19:04:46.234746Z"
    },
    "papermill": {
     "duration": 0.049421,
     "end_time": "2022-03-11T19:05:52.119940",
     "exception": false,
     "start_time": "2022-03-11T19:05:52.070519",
     "status": "completed"
    },
    "tags": []
   },
   "outputs": [
    {
     "name": "stdout",
     "output_type": "stream",
     "text": [
      "<class 'pandas.core.frame.DataFrame'>\n",
      "RangeIndex: 70 entries, 1 to 70\n",
      "Data columns (total 6 columns):\n",
      " #   Column     Non-Null Count  Dtype \n",
      "---  ------     --------------  ----- \n",
      " 0   DATE       70 non-null     object\n",
      " 1   TIME       70 non-null     object\n",
      " 2   PM/AM      70 non-null     object\n",
      " 3   HOME TEAM  70 non-null     object\n",
      " 4   AWAY TEAM  70 non-null     object\n",
      " 5   VENUE      70 non-null     object\n",
      "dtypes: object(6)\n",
      "memory usage: 3.4+ KB\n"
     ]
    }
   ],
   "source": [
    "data.info()"
   ]
  },
  {
   "cell_type": "code",
   "execution_count": 10,
   "id": "8575e2d0",
   "metadata": {
    "execution": {
     "iopub.execute_input": "2022-03-11T19:05:52.172355Z",
     "iopub.status.busy": "2022-03-11T19:05:52.171571Z",
     "iopub.status.idle": "2022-03-11T19:05:52.184210Z",
     "shell.execute_reply": "2022-03-11T19:05:52.185283Z",
     "shell.execute_reply.started": "2022-03-11T19:04:46.257779Z"
    },
    "papermill": {
     "duration": 0.043027,
     "end_time": "2022-03-11T19:05:52.185587",
     "exception": false,
     "start_time": "2022-03-11T19:05:52.142560",
     "status": "completed"
    },
    "tags": []
   },
   "outputs": [
    {
     "name": "stderr",
     "output_type": "stream",
     "text": [
      "/opt/conda/lib/python3.7/site-packages/ipykernel_launcher.py:1: SettingWithCopyWarning: \n",
      "A value is trying to be set on a copy of a slice from a DataFrame.\n",
      "Try using .loc[row_indexer,col_indexer] = value instead\n",
      "\n",
      "See the caveats in the documentation: https://pandas.pydata.org/pandas-docs/stable/user_guide/indexing.html#returning-a-view-versus-a-copy\n",
      "  \"\"\"Entry point for launching an IPython kernel.\n"
     ]
    }
   ],
   "source": [
    "data[\"DATE\"]=pd.to_datetime(data[\"DATE\"])"
   ]
  },
  {
   "cell_type": "code",
   "execution_count": 11,
   "id": "bb1d56bb",
   "metadata": {
    "execution": {
     "iopub.execute_input": "2022-03-11T19:05:52.251019Z",
     "iopub.status.busy": "2022-03-11T19:05:52.250145Z",
     "iopub.status.idle": "2022-03-11T19:05:52.256416Z",
     "shell.execute_reply": "2022-03-11T19:05:52.255582Z",
     "shell.execute_reply.started": "2022-03-11T19:04:46.270487Z"
    },
    "papermill": {
     "duration": 0.047025,
     "end_time": "2022-03-11T19:05:52.256604",
     "exception": false,
     "start_time": "2022-03-11T19:05:52.209579",
     "status": "completed"
    },
    "tags": []
   },
   "outputs": [
    {
     "data": {
      "text/html": [
       "<div>\n",
       "<style scoped>\n",
       "    .dataframe tbody tr th:only-of-type {\n",
       "        vertical-align: middle;\n",
       "    }\n",
       "\n",
       "    .dataframe tbody tr th {\n",
       "        vertical-align: top;\n",
       "    }\n",
       "\n",
       "    .dataframe thead th {\n",
       "        text-align: right;\n",
       "    }\n",
       "</style>\n",
       "<table border=\"1\" class=\"dataframe\">\n",
       "  <thead>\n",
       "    <tr style=\"text-align: right;\">\n",
       "      <th></th>\n",
       "      <th>DATE</th>\n",
       "      <th>TIME</th>\n",
       "      <th>PM/AM</th>\n",
       "      <th>HOME TEAM</th>\n",
       "      <th>AWAY TEAM</th>\n",
       "      <th>VENUE</th>\n",
       "    </tr>\n",
       "  </thead>\n",
       "  <tbody>\n",
       "    <tr>\n",
       "      <th>1</th>\n",
       "      <td>2022-03-26</td>\n",
       "      <td>07:30</td>\n",
       "      <td>PM</td>\n",
       "      <td>Chennai Super Kings</td>\n",
       "      <td>Kolkata Knight Riders</td>\n",
       "      <td>Wankhede Stadium</td>\n",
       "    </tr>\n",
       "    <tr>\n",
       "      <th>2</th>\n",
       "      <td>2022-03-27</td>\n",
       "      <td>03:30</td>\n",
       "      <td>PM</td>\n",
       "      <td>Delhi Capitals</td>\n",
       "      <td>Mumbai Indians</td>\n",
       "      <td>Brabourne - CCI</td>\n",
       "    </tr>\n",
       "    <tr>\n",
       "      <th>3</th>\n",
       "      <td>2022-03-27</td>\n",
       "      <td>07:30</td>\n",
       "      <td>PM</td>\n",
       "      <td>Punjab Kings</td>\n",
       "      <td>Royal Challengers Bangalore</td>\n",
       "      <td>DY Patil Stadium</td>\n",
       "    </tr>\n",
       "    <tr>\n",
       "      <th>4</th>\n",
       "      <td>2022-03-28</td>\n",
       "      <td>07:30</td>\n",
       "      <td>PM</td>\n",
       "      <td>Gujarat Titans</td>\n",
       "      <td>Lucknow Super Giants</td>\n",
       "      <td>Wankhede Stadium</td>\n",
       "    </tr>\n",
       "    <tr>\n",
       "      <th>5</th>\n",
       "      <td>2022-03-29</td>\n",
       "      <td>07:30</td>\n",
       "      <td>PM</td>\n",
       "      <td>Sunrisers Hyderabad</td>\n",
       "      <td>Rajasthan Royals</td>\n",
       "      <td>MCA Stadium, Pune</td>\n",
       "    </tr>\n",
       "    <tr>\n",
       "      <th>...</th>\n",
       "      <td>...</td>\n",
       "      <td>...</td>\n",
       "      <td>...</td>\n",
       "      <td>...</td>\n",
       "      <td>...</td>\n",
       "      <td>...</td>\n",
       "    </tr>\n",
       "    <tr>\n",
       "      <th>66</th>\n",
       "      <td>2022-05-18</td>\n",
       "      <td>07:30</td>\n",
       "      <td>PM</td>\n",
       "      <td>Kolkata Knight Riders</td>\n",
       "      <td>Lucknow Super Giants</td>\n",
       "      <td>DY Patil Stadium</td>\n",
       "    </tr>\n",
       "    <tr>\n",
       "      <th>67</th>\n",
       "      <td>2022-05-19</td>\n",
       "      <td>07:30</td>\n",
       "      <td>PM</td>\n",
       "      <td>Royal Challengers Bangalore</td>\n",
       "      <td>Gujarat Titans</td>\n",
       "      <td>Wankhede Stadium</td>\n",
       "    </tr>\n",
       "    <tr>\n",
       "      <th>68</th>\n",
       "      <td>2022-05-20</td>\n",
       "      <td>07:30</td>\n",
       "      <td>PM</td>\n",
       "      <td>Rajasthan Royals</td>\n",
       "      <td>Chennai Super Kings</td>\n",
       "      <td>Brabourne - CCI</td>\n",
       "    </tr>\n",
       "    <tr>\n",
       "      <th>69</th>\n",
       "      <td>2022-05-21</td>\n",
       "      <td>07:30</td>\n",
       "      <td>PM</td>\n",
       "      <td>Mumbai Indians</td>\n",
       "      <td>Delhi Capitals</td>\n",
       "      <td>Wankhede Stadium</td>\n",
       "    </tr>\n",
       "    <tr>\n",
       "      <th>70</th>\n",
       "      <td>2022-05-22</td>\n",
       "      <td>07:30</td>\n",
       "      <td>PM</td>\n",
       "      <td>Sunrisers Hyderabad</td>\n",
       "      <td>Punjab Kings</td>\n",
       "      <td>Wankhede Stadium</td>\n",
       "    </tr>\n",
       "  </tbody>\n",
       "</table>\n",
       "<p>70 rows × 6 columns</p>\n",
       "</div>"
      ],
      "text/plain": [
       "0        DATE   TIME PM/AM                    HOME TEAM  \\\n",
       "1  2022-03-26  07:30    PM          Chennai Super Kings   \n",
       "2  2022-03-27  03:30    PM               Delhi Capitals   \n",
       "3  2022-03-27  07:30    PM                 Punjab Kings   \n",
       "4  2022-03-28  07:30    PM               Gujarat Titans   \n",
       "5  2022-03-29  07:30    PM          Sunrisers Hyderabad   \n",
       "..        ...    ...   ...                          ...   \n",
       "66 2022-05-18  07:30    PM        Kolkata Knight Riders   \n",
       "67 2022-05-19  07:30    PM  Royal Challengers Bangalore   \n",
       "68 2022-05-20  07:30    PM             Rajasthan Royals   \n",
       "69 2022-05-21  07:30    PM               Mumbai Indians   \n",
       "70 2022-05-22  07:30    PM          Sunrisers Hyderabad   \n",
       "\n",
       "0                     AWAY TEAM              VENUE  \n",
       "1         Kolkata Knight Riders   Wankhede Stadium  \n",
       "2                Mumbai Indians    Brabourne - CCI  \n",
       "3   Royal Challengers Bangalore   DY Patil Stadium  \n",
       "4          Lucknow Super Giants   Wankhede Stadium  \n",
       "5              Rajasthan Royals  MCA Stadium, Pune  \n",
       "..                          ...                ...  \n",
       "66         Lucknow Super Giants   DY Patil Stadium  \n",
       "67               Gujarat Titans   Wankhede Stadium  \n",
       "68          Chennai Super Kings    Brabourne - CCI  \n",
       "69               Delhi Capitals   Wankhede Stadium  \n",
       "70                 Punjab Kings   Wankhede Stadium  \n",
       "\n",
       "[70 rows x 6 columns]"
      ]
     },
     "execution_count": 11,
     "metadata": {},
     "output_type": "execute_result"
    }
   ],
   "source": [
    "data"
   ]
  },
  {
   "cell_type": "code",
   "execution_count": 12,
   "id": "bb249b4b",
   "metadata": {
    "execution": {
     "iopub.execute_input": "2022-03-11T19:05:52.315735Z",
     "iopub.status.busy": "2022-03-11T19:05:52.314978Z",
     "iopub.status.idle": "2022-03-11T19:05:52.318244Z",
     "shell.execute_reply": "2022-03-11T19:05:52.318932Z",
     "shell.execute_reply.started": "2022-03-11T19:04:46.296959Z"
    },
    "papermill": {
     "duration": 0.040811,
     "end_time": "2022-03-11T19:05:52.319126",
     "exception": false,
     "start_time": "2022-03-11T19:05:52.278315",
     "status": "completed"
    },
    "tags": []
   },
   "outputs": [
    {
     "name": "stdout",
     "output_type": "stream",
     "text": [
      "<class 'pandas.core.frame.DataFrame'>\n",
      "RangeIndex: 70 entries, 1 to 70\n",
      "Data columns (total 6 columns):\n",
      " #   Column     Non-Null Count  Dtype         \n",
      "---  ------     --------------  -----         \n",
      " 0   DATE       70 non-null     datetime64[ns]\n",
      " 1   TIME       70 non-null     object        \n",
      " 2   PM/AM      70 non-null     object        \n",
      " 3   HOME TEAM  70 non-null     object        \n",
      " 4   AWAY TEAM  70 non-null     object        \n",
      " 5   VENUE      70 non-null     object        \n",
      "dtypes: datetime64[ns](1), object(5)\n",
      "memory usage: 3.4+ KB\n"
     ]
    }
   ],
   "source": [
    "data.info()"
   ]
  },
  {
   "cell_type": "markdown",
   "id": "3ce0a41e",
   "metadata": {
    "papermill": {
     "duration": 0.024822,
     "end_time": "2022-03-11T19:05:52.368180",
     "exception": false,
     "start_time": "2022-03-11T19:05:52.343358",
     "status": "completed"
    },
    "tags": []
   },
   "source": [
    "# Exporting as a CSV file"
   ]
  },
  {
   "cell_type": "code",
   "execution_count": 13,
   "id": "6e570297",
   "metadata": {
    "execution": {
     "iopub.execute_input": "2022-03-11T19:05:52.422451Z",
     "iopub.status.busy": "2022-03-11T19:05:52.421695Z",
     "iopub.status.idle": "2022-03-11T19:05:52.433842Z",
     "shell.execute_reply": "2022-03-11T19:05:52.432954Z",
     "shell.execute_reply.started": "2022-03-11T19:04:46.311168Z"
    },
    "papermill": {
     "duration": 0.041163,
     "end_time": "2022-03-11T19:05:52.434030",
     "exception": false,
     "start_time": "2022-03-11T19:05:52.392867",
     "status": "completed"
    },
    "tags": []
   },
   "outputs": [],
   "source": [
    "data.to_csv(\"ipl_schedule.csv\")"
   ]
  }
 ],
 "metadata": {
  "kernelspec": {
   "display_name": "Python 3",
   "language": "python",
   "name": "python3"
  },
  "language_info": {
   "codemirror_mode": {
    "name": "ipython",
    "version": 3
   },
   "file_extension": ".py",
   "mimetype": "text/x-python",
   "name": "python",
   "nbconvert_exporter": "python",
   "pygments_lexer": "ipython3",
   "version": "3.7.12"
  },
  "papermill": {
   "default_parameters": {},
   "duration": 18.799887,
   "end_time": "2022-03-11T19:05:53.269121",
   "environment_variables": {},
   "exception": null,
   "input_path": "__notebook__.ipynb",
   "output_path": "__notebook__.ipynb",
   "parameters": {},
   "start_time": "2022-03-11T19:05:34.469234",
   "version": "2.3.3"
  }
 },
 "nbformat": 4,
 "nbformat_minor": 5
}
